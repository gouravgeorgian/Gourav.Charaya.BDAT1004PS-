{
 "cells": [
  {
   "cell_type": "markdown",
   "id": "3490cbd9",
   "metadata": {},
   "source": [
    "Question 1 - Data types identification?"
   ]
  },
  {
   "cell_type": "markdown",
   "id": "0a0f3ce3",
   "metadata": {},
   "source": [
    "1. 5 = INTEGER\n",
    "2. 5.0 = FLOAT\n",
    "3. 5 > 1 = (true)BOOLEAN\n",
    "4. '5' = CHARACTER\n",
    "5. 5 * 2 = (10)INTEGER\n",
    "6. '5' * 2 = (106)INTEGER\n",
    "7. '5' + '2' = (103)INTEGER\n",
    "8. 5/2 = (2)INTEGER\n",
    "9. 5%2 = (1)INTEGER\n",
    "10. {5,2,1} = LIST\n",
    "11. 5 == 3 = false(BOOLEAN)\n",
    "12. Pi = 3.14-- = FLOAT"
   ]
  },
  {
   "cell_type": "markdown",
   "id": "3f5e822a",
   "metadata": {},
   "source": [
    "Question 2 - How many letters are there in word \"supercalifragilisticexpialidocious\"\n"
   ]
  },
  {
   "cell_type": "code",
   "execution_count": 16,
   "id": "8a6fef0e",
   "metadata": {},
   "outputs": [
    {
     "name": "stdout",
     "output_type": "stream",
     "text": [
      "34\n"
     ]
    }
   ],
   "source": [
    "string actualWord = \"supercalifragilisticexpialidocious\";\n",
    "Console.WriteLine(actualWord.Length);"
   ]
  },
  {
   "cell_type": "markdown",
   "id": "0b658b1d",
   "metadata": {},
   "source": [
    "Does \"supercalifragilisticexpialidocious\" contain \"ice\" as a substring?"
   ]
  },
  {
   "cell_type": "code",
   "execution_count": 21,
   "id": "3d43c462",
   "metadata": {},
   "outputs": [
    {
     "name": "stdout",
     "output_type": "stream",
     "text": [
      "Ice substring found\n"
     ]
    }
   ],
   "source": [
    "string word = \"supercalifragilisticexpialidocious\";\n",
    "string find = \"ice\";\n",
    "int found = 0;\n",
    "for (int counter = 0; counter < word.Length-2; counter++)\n",
    "{\n",
    "\n",
    "    int lastCounter = 3;\n",
    "    if (word.Substring(counter, lastCounter) == find)\n",
    "    {\n",
    "        found++;\n",
    "        lastCounter++;\n",
    "    }\n",
    "\n",
    "}\n",
    "if (found > 0)\n",
    "{\n",
    "    Console.WriteLine(\"Ice substring found\");\n",
    "}\n",
    "else\n",
    "{\n",
    "    Console.WriteLine(\"Ice substring not found\");\n",
    "}\n",
    "\n"
   ]
  },
  {
   "cell_type": "markdown",
   "id": "1cba09d5",
   "metadata": {},
   "source": [
    "which of the word is longest \"bababadalgharaghtakamminarronnkonn\",\"supercalifragilisticexpialidocious\" and \"honorificabilitudinitatibus\" "
   ]
  },
  {
   "cell_type": "code",
   "execution_count": 30,
   "id": "f2ae4489",
   "metadata": {},
   "outputs": [
    {
     "name": "stdout",
     "output_type": "stream",
     "text": [
      "first word and second word length is equal\n"
     ]
    }
   ],
   "source": [
    "string firstWord = \"bababadalgharaghtakamminarronnkonn\";\n",
    "string secondWord = \"supercalifragilisticexpialidocious\";\n",
    "string thirdWord = \"honorificabilitudinitatibus\";\n",
    "int lengthOfFirstWord = firstWord.Length;\n",
    "int lengthOfSecondWord = secondWord.Length;\n",
    "int lengthOfThirdWord = thirdWord.Length;\n",
    "\n",
    "    if(lengthOfFirstWord == lengthOfSecondWord && lengthOfSecondWord == lengthOfThirdWord)\n",
    "    {\n",
    "        Console.WriteLine(\"all three words have equal length\");\n",
    "    } else\n",
    "    {\n",
    "        if ((lengthOfFirstWord > lengthOfSecondWord && lengthOfFirstWord > lengthOfThirdWord) || (lengthOfFirstWord == lengthOfSecondWord))\n",
    "        {\n",
    "            if (lengthOfFirstWord == lengthOfSecondWord)\n",
    "            {\n",
    "                Console.WriteLine(\"first word and second word length is equal\");\n",
    "            }\n",
    "            else\n",
    "            {\n",
    "                Console.WriteLine(\"first word has greatest length\");\n",
    "            }\n",
    "        }\n",
    "        else if (lengthOfSecondWord > lengthOfThirdWord && lengthOfSecondWord > lengthOfFirstWord || (lengthOfSecondWord == lengthOfThirdWord))\n",
    "        {\n",
    "            if (lengthOfSecondWord == lengthOfThirdWord)\n",
    "            {\n",
    "                Console.WriteLine(\"second word and third word length is equal\");\n",
    "            }\n",
    "\n",
    "            else\n",
    "            {\n",
    "                Console.WriteLine(\"second word has greatest length\");\n",
    "            }\n",
    "        }\n",
    "        else if (lengthOfThirdWord > lengthOfSecondWord && lengthOfThirdWord > lengthOfFirstWord || (lengthOfThirdWord == lengthOfFirstWord))\n",
    "        {\n",
    "            if (lengthOfFirstWord == lengthOfThirdWord)\n",
    "            {\n",
    "                Console.WriteLine(\"first word and third word length is equal\");\n",
    "            } else\n",
    "            {\n",
    "                Console.WriteLine(\"third word has greatest length\");\n",
    "            }\n",
    "        }\n",
    "    }"
   ]
  },
  {
   "cell_type": "markdown",
   "id": "8e38b936",
   "metadata": {},
   "source": [
    "Which composer comes first in the dictionary? \"Berlioz\", \"Borodin\", \"Brian\", \"Bartok\", \"Bellini\", \"Buxtehude\", \"Bernstein\".. WHich one comes last?"
   ]
  },
  {
   "cell_type": "code",
   "execution_count": 36,
   "id": "34b4fea8",
   "metadata": {},
   "outputs": [
    {
     "name": "stdout",
     "output_type": "stream",
     "text": [
      "first word --> Bartok\n",
      "last word --> Buxtehude\n"
     ]
    }
   ],
   "source": [
    "List<string> listOfStrings = new List<string>();\n",
    "listOfStrings.Add(\"Berlioz\");\n",
    "listOfStrings.Add(\"Borodin\");\n",
    "listOfStrings.Add(\"Brian\");\n",
    "listOfStrings.Add(\"Bartok\");\n",
    "listOfStrings.Add(\"Buxtehude\");\n",
    "listOfStrings.Add(\"Bernstein\");\n",
    "listOfStrings.Sort();\n",
    "int lengthOfList = listOfStrings.Count;\n",
    "string firstInTheDictionary = listOfStrings[0];\n",
    "string lastInTheDictionary = listOfStrings[lengthOfList - 1];\n",
    "Console.WriteLine(\"first word --> \" + firstInTheDictionary);\n",
    "Console.WriteLine(\"last word --> \" + lastInTheDictionary);"
   ]
  },
  {
   "cell_type": "markdown",
   "id": "3b12f147",
   "metadata": {},
   "source": [
    "Question 3 - Implement function triangleArea(a,b,c) "
   ]
  },
  {
   "cell_type": "code",
   "execution_count": 43,
   "id": "93f3267b",
   "metadata": {},
   "outputs": [
    {
     "name": "stdout",
     "output_type": "stream",
     "text": [
      "1.7320508075688772\n"
     ]
    }
   ],
   "source": [
    "Double resultant = triangleArea(2,2,2);\n",
    "Console.WriteLine(resultant);\n",
    "static Double triangleArea(Double sideOne, Double sideTwo, Double sideThree)\n",
    "{\n",
    "    Double side = (sideOne + sideTwo + sideThree) / 2;\n",
    "    Double heronsFormula = Math.Sqrt(side * (side - sideOne) * (side - sideTwo) * (side - sideThree));\n",
    "    return heronsFormula;\n",
    "}"
   ]
  },
  {
   "cell_type": "markdown",
   "id": "7e48eaaf",
   "metadata": {},
   "source": [
    "Question 4 - Find odd and even?"
   ]
  },
  {
   "cell_type": "code",
   "execution_count": 3,
   "id": "ebf6bacc",
   "metadata": {},
   "outputs": [
    {
     "name": "stdout",
     "output_type": "stream",
     "text": [
      "the even array elements are:\n",
      "42 56 32 \n",
      "the odd array elements are:\n",
      "25 47 "
     ]
    }
   ],
   "source": [
    "//I am first getting the elements in list and then converting to array as the question is asking for separate arrays\n",
    "int[] arrayOfIntegers = new int[5];\n",
    "arrayOfIntegers[0] = 25;\n",
    "arrayOfIntegers[1] = 47;\n",
    "arrayOfIntegers[2] = 42;\n",
    "arrayOfIntegers[3] = 56;\n",
    "arrayOfIntegers[4] = 32;\n",
    "List<int> oddElementsList = new List<int>();\n",
    "List<int> evenElementsList = new List<int>();\n",
    "for (int i = 0; i < arrayOfIntegers.Length; i++)\n",
    "{\n",
    "    if(arrayOfIntegers[i] % 2 == 0)\n",
    "    {\n",
    "        evenElementsList.Add(arrayOfIntegers[i]);\n",
    "    } else\n",
    "    {\n",
    "        oddElementsList.Add(arrayOfIntegers[i]);\n",
    "    }\n",
    "}\n",
    "int[] evenElementsArray = evenElementsList.ToArray();\n",
    "Console.WriteLine(\"the even array elements are:\");\n",
    "foreach (int i in evenElementsArray)\n",
    "{\n",
    "    Console.Write(i + \" \");\n",
    "}\n",
    "Console.WriteLine();\n",
    "int[] oddElementsArray = oddElementsList.ToArray();\n",
    "Console.WriteLine(\"the odd array elements are:\");\n",
    "foreach (int i in oddElementsArray)\n",
    "{\n",
    "    Console.Write(i + \" \");\n",
    "}\n"
   ]
  },
  {
   "cell_type": "code",
   "execution_count": null,
   "id": "fb38fbe2",
   "metadata": {},
   "outputs": [],
   "source": []
  }
 ],
 "metadata": {
  "kernelspec": {
   "display_name": ".NET (C#)",
   "language": "C#",
   "name": ".net-csharp"
  },
  "language_info": {
   "file_extension": ".cs",
   "mimetype": "text/x-csharp",
   "name": "C#",
   "pygments_lexer": "csharp",
   "version": "8.0"
  }
 },
 "nbformat": 4,
 "nbformat_minor": 5
}
